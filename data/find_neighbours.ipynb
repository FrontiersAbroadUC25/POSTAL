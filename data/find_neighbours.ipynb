{
 "cells": [
  {
   "cell_type": "code",
   "execution_count": 24,
   "metadata": {},
   "outputs": [
    {
     "name": "stdout",
     "output_type": "stream",
     "text": [
      "97526/97527\r"
     ]
    }
   ],
   "source": [
    "import meshio\n",
    "import numpy as np\n",
    "\n",
    "vtk_file = \"./hik_kerk3k_with_rake.vtk\"\n",
    "\n",
    "mesh = meshio.read(vtk_file)\n",
    "triangle_points = mesh.cells[0].data\n",
    "n_tri = triangle_points.shape[0]\n",
    "neighbours = []\n",
    "\n",
    "sides = np.array([[0, 1], [1, 2], [2, 0]])\n",
    "\n",
    "for tri in range(n_tri):\n",
    "    print(f\"{tri}/{n_tri}\", end=\"\\r\")\n",
    "    neighbour = []\n",
    "    for side_ix in sides:\n",
    "        side = triangle_points[tri, side_ix]\n",
    "        neigh = list(np.where(np.vstack([np.in1d(triangle_points[:, 0], side), np.in1d(triangle_points[:, 1], side), np.in1d(triangle_points[:, 2], side)]).sum(axis=0) == 2)[0])\n",
    "        neigh.pop(neigh.index(tri))\n",
    "        if len(neigh) == 1:\n",
    "            neighbour.append(neigh[0])\n",
    "    \n",
    "    neighbour.sort()\n",
    "    neighbours.append(neighbour)\n",
    "\n",
    "with open(vtk_file.replace('.vtk', '_neighbours.txt'), \"w\") as f:\n",
    "    for i, neigh in enumerate(neighbours):\n",
    "        f.write(f\"{' '.join([str(n) for n in neigh])}\\n\")"
   ]
  }
 ],
 "metadata": {
  "kernelspec": {
   "display_name": "jack",
   "language": "python",
   "name": "python3"
  },
  "language_info": {
   "codemirror_mode": {
    "name": "ipython",
    "version": 3
   },
   "file_extension": ".py",
   "mimetype": "text/x-python",
   "name": "python",
   "nbconvert_exporter": "python",
   "pygments_lexer": "ipython3",
   "version": "3.10.13"
  }
 },
 "nbformat": 4,
 "nbformat_minor": 2
}
