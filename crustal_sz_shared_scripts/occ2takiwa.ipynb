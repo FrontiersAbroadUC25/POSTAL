{
 "cells": [
  {
   "cell_type": "code",
   "execution_count": 2,
   "metadata": {},
   "outputs": [
    {
     "name": "stdout",
     "output_type": "stream",
     "text": [
      "Can't order sites numerically\n"
     ]
    }
   ],
   "source": [
    "import os\n",
    "import h5py as h5\n",
    "import pandas as pd\n",
    "import geopandas as gpd\n",
    "import numpy as np\n",
    "from probabalistic_displacement_scripts import get_exceedance_bar_chart_data\n",
    "\n",
    "run_name = 'crustal_JDE'\n",
    "\n",
    "prob_thresholds = [0.1, 0.02]\n",
    "exceed_type_list = ['up', 'down']\n",
    "\n",
    "weighted = True\n",
    "\n",
    "results_dir = os.path.join('..', 'results')\n",
    "\n",
    "if weighted:\n",
    "    h5_file = os.path.join(results_dir, run_name, 'weighted_mean_PPE_dict_uniform.h5')\n",
    "\n",
    "PPEh5 = h5.File(h5_file, 'r')\n",
    "\n",
    "sites = [*PPEh5.keys()]\n",
    "metadata_keys = ['branch_weights', 'branch_ids', 'thresholds', 'threshold_vals', 'sigma_lims']\n",
    "for meta in metadata_keys:\n",
    "    if meta in sites:\n",
    "        sites.remove(meta)\n",
    "\n",
    "try:\n",
    "    sites = [sites[ix] for ix in np.argsort(np.array(sites).astype(int))]\n",
    "except:\n",
    "    print(\"Can't order sites numerically\")\n",
    "\n",
    "out_columns = ['Site ID', 'Lon' ,'Lat']\n",
    "for exceed_type in exceed_type_list:\n",
    "    for prob in prob_thresholds:\n",
    "        out_columns.append(f'{prob*100}% {exceed_type} POE (m)')\n",
    "        out_columns.append(f'{prob*100}% {exceed_type} sigma (m)')\n",
    "\n",
    "output = pd.DataFrame(columns=out_columns)\n"
   ]
  },
  {
   "cell_type": "code",
   "execution_count": 3,
   "metadata": {},
   "outputs": [],
   "source": [
    "lons = []\n",
    "lats = []\n",
    "\n",
    "for siteID in sites:\n",
    "    site = PPEh5[siteID]\n",
    "    lon, lat, _ = site['site_coords'][()]\n",
    "    lons.append(lon)\n",
    "    lats.append(lat)\n",
    "\n",
    "if max(lons) > 180:\n",
    "    locs = gpd.GeoDataFrame(geometry=gpd.points_from_xy(lons, lats)).set_crs(epsg=2193)\n",
    "    locs.geometry = locs.geometry.to_crs(epsg=4326)\n",
    "else:\n",
    "    locs = gpd.GeoDataFrame(geometry=gpd.points_from_xy(lons, lats)).set_crs(epsg=4326)\n",
    "\n",
    "csv_dict = {'Site ID': sites, 'Lon': locs.geometry.x.map(lambda x: round(x, 6)), 'Lat': locs.geometry.y.map(lambda x: round(x, 6))}\n",
    "\n",
    "for exceed_type in exceed_type_list:\n",
    "    for ii, prob in enumerate(prob_thresholds):\n",
    "        disps, errs = get_exceedance_bar_chart_data(site_PPE_dictionary=PPEh5, exceed_type=exceed_type,\n",
    "                                                    site_list=sites, probability=prob, weighted=weighted, err_index=[1,2])\n",
    "        csv_dict[f'{prob*100}% {exceed_type} POE (m)'] = [f\"{disp:.02f}\" for disp in disps]\n",
    "        csv_dict[f'{prob*100}% {exceed_type} +1 sigma (m)'] = [f\"{max(err):.02f}\" for err in errs]\n",
    "        csv_dict[f'{prob*100}% {exceed_type} -1 sigma (m)'] = [f\"{min(err):.02f}\" for err in errs]\n",
    "\n",
    "\n",
    "out_df = pd.DataFrame(csv_dict)\n",
    "out_df.to_csv(os.path.join(results_dir, run_name, 'exceedance_bar_chart_data.csv'), index=False)"
   ]
  },
  {
   "cell_type": "code",
   "execution_count": null,
   "metadata": {},
   "outputs": [],
   "source": []
  }
 ],
 "metadata": {
  "kernelspec": {
   "display_name": "jack",
   "language": "python",
   "name": "python3"
  },
  "language_info": {
   "codemirror_mode": {
    "name": "ipython",
    "version": 3
   },
   "file_extension": ".py",
   "mimetype": "text/x-python",
   "name": "python",
   "nbconvert_exporter": "python",
   "pygments_lexer": "ipython3",
   "version": "3.10.13"
  }
 },
 "nbformat": 4,
 "nbformat_minor": 2
}
